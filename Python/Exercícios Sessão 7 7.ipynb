{
 "cells": [
  {
   "cell_type": "markdown",
   "metadata": {},
   "source": [
    "# **Exercícios Sessão 7**"
   ]
  },
  {
   "cell_type": "markdown",
   "metadata": {},
   "source": [
    "### 7. Crie um ficheiro com extensão .txt, com o conteúdo:\n",
    "\n",
    "#### -Programar em Python é Muito divertido\n",
    "\n",
    "#### Verificando se o ficheiro existe ou não, desenvolva um programa que permita ao utilizador acrescentar conteúdo e pesquisar por uma palavra no ficheiro"
   ]
  },
  {
   "cell_type": "code",
   "execution_count": 2,
   "metadata": {},
   "outputs": [
    {
     "name": "stdout",
     "output_type": "stream",
     "text": [
      "****************************************\n",
      "*****Leitura e escrita de ficheiro******\n",
      "****************************************\n",
      "P - Pesquisar palavra ficheiro\n",
      "E - Acrescentar no ficheiro\n",
      "X - Sair\n",
      "Ficheiro não encontrado\n",
      "Ficheiro criado\n"
     ]
    }
   ],
   "source": [
    "print('****************************************')\n",
    "print('*****Leitura e escrita de ficheiro******')\n",
    "print('****************************************')\n",
    "print('P - Pesquisar palavra ficheiro')\n",
    "print('E - Acrescentar no ficheiro')\n",
    "print('X - Sair')\n",
    "myInput = ''\n",
    "FileName = input('Introduza o nome do ficheiro que pretende abrir.') + '.txt'\n",
    "\n",
    "while True:\n",
    "    try:\n",
    "        myInput = input('Introduza a opção pretendida.')\n",
    "        if myInput.upper() == 'P':\n",
    "            myFile = open(FileName,'r')\n",
    "            pesq = input('Introduza a palavra a pesquisar.')\n",
    "            read = myFile.read().split()\n",
    "            if pesq in read:\n",
    "                print(f'Palavra {pesq} encontrada.')\n",
    "            else:\n",
    "                print(f'Palavra {pesq} não encontrada.')\n",
    "            myFile.close()\n",
    "        elif myInput.upper() == 'E':\n",
    "            myFile = open(FileName,'a')\n",
    "            conteudo = input('Introduza o conteúdo a acrescentar.')\n",
    "            myFile.write('\\n' + conteudo)\n",
    "            print(f'Conteúdo {conteudo} acrescentado.')\n",
    "            myFile.close()\n",
    "        elif myInput.upper() == 'X':\n",
    "            break\n",
    "        else:\n",
    "            print('Opção inválida.')\n",
    "    except FileNotFoundError:\n",
    "        print('Ficheiro não encontrado')\n",
    "        try:\n",
    "            FileName = input('Introduza o nome do ficheiro que pretende abrir.') + '.txt'\n",
    "            myFile = open(FileName,'x')\n",
    "            myFile.close()\n",
    "            myFile = open(FileName,'w')\n",
    "            myFile.write('Programar em\\nPython é\\nMuito Divertido')\n",
    "            myFile.close()\n",
    "            print('Ficheiro criado')\n",
    "        except FileExistsError:\n",
    "            print('Ficheiro já existe.')\n",
    "            myFile.close()\n",
    "            pass"
   ]
  }
 ],
 "metadata": {
  "kernelspec": {
   "display_name": "UFCD_10793_08_N",
   "language": "python",
   "name": "python3"
  },
  "language_info": {
   "codemirror_mode": {
    "name": "ipython",
    "version": 3
   },
   "file_extension": ".py",
   "mimetype": "text/x-python",
   "name": "python",
   "nbconvert_exporter": "python",
   "pygments_lexer": "ipython3",
   "version": "3.11.4"
  },
  "orig_nbformat": 4
 },
 "nbformat": 4,
 "nbformat_minor": 2
}
