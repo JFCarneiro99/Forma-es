{
 "cells": [
  {
   "cell_type": "markdown",
   "metadata": {},
   "source": [
    "# **Exercícios Sessão 5**"
   ]
  },
  {
   "cell_type": "markdown",
   "metadata": {},
   "source": [
    "### 11. Crie dicionários de 5 pessoas com os seguintes dados:\n",
    "- Nome\n",
    "- idade\n",
    "- profissão"
   ]
  },
  {
   "cell_type": "code",
   "execution_count": 1,
   "metadata": {},
   "outputs": [
    {
     "name": "stdout",
     "output_type": "stream",
     "text": [
      "Dados da pessoa encontrada:\n",
      "Nome: José\n",
      "Idade: 23\n",
      "Profissão: Engenheiro\n"
     ]
    }
   ],
   "source": [
    "\n",
    "pessoa1 = {\"Nome\": \"José\",\"Idade\": 23,\"Profissão\": \"Engenheiro\"}\n",
    "\n",
    "pessoa2 = {\"Nome\": \"João\",\"Idade\": 25,\"Profissão\": \"Professor\"}\n",
    "\n",
    "pessoa3 = {\"Nome\": \"Maria\",\"Idade\": 35,\"Profissão\": \"Médica\"}\n",
    "\n",
    "pessoa4 = {\"Nome\": \"Rui\",\"Idade\": 65,\"Profissão\": \"Advogado\"}\n",
    "\n",
    "pessoa5 = {\"Nome\": \"Rita\",\"Idade\": 24,\"Profissão\": \"Designer\"}\n",
    "\n",
    "nomeutilizador = input(\"Digite o nome da pessoa que deseja encontrar: \") # Solicitar o nome do utilizador\n",
    "\n",
    "pessoas = [pessoa1, pessoa2, pessoa3, pessoa4, pessoa5] # Procurar a pessoa pelo nome e exibir os dados, se encontrados\n",
    "\n",
    "encontrado = False\n",
    "for pessoa in pessoas:\n",
    "    if pessoa[\"Nome\"].lower() == nomeutilizador.lower():\n",
    "        print(\"Dados da pessoa encontrada:\")\n",
    "        print(f\"Nome: {pessoa['Nome']}\")\n",
    "        print(f\"Idade: {pessoa['Idade']}\")\n",
    "        print(f\"Profissão: {pessoa['Profissão']}\")\n",
    "        encontrado = True\n",
    "        break\n",
    "\n",
    "if not encontrado:\n",
    "    print(f\"{nomeutilizador} não foi encontrado na lista.\")"
   ]
  },
  {
   "cell_type": "markdown",
   "metadata": {},
   "source": [
    "### 12. Crie a seguinte variável do tipo String: FormaçãodePythonéespetacular\n",
    "### Crie um output que apresente a frase com os espaçamentos corretos."
   ]
  },
  {
   "cell_type": "code",
   "execution_count": 5,
   "metadata": {},
   "outputs": [
    {
     "name": "stdout",
     "output_type": "stream",
     "text": [
      "Formação de python é espetacular \n"
     ]
    }
   ],
   "source": [
    "var = \"Formaçãodepythonéespetacular\" # Definir a variável de string\n",
    "\n",
    "var = var[:8] + \" \" + var[8:10] + \" \" + var[10:16] + \" \" + var[16] + \" \" + var[17:] + \" \"\n",
    "print(var)\n"
   ]
  },
  {
   "cell_type": "markdown",
   "metadata": {},
   "source": [
    "### 13. A partir dos dicionários criados na pergunta 11, crie uma lista com as idades contidas."
   ]
  },
  {
   "cell_type": "code",
   "execution_count": 11,
   "metadata": {},
   "outputs": [
    {
     "name": "stdout",
     "output_type": "stream",
     "text": [
      "[23, 25, 35, 65, 24]\n"
     ]
    }
   ],
   "source": [
    "idades = [pessoa1[\"Idade\"], pessoa2[\"Idade\"], pessoa3[\"Idade\"], pessoa4[\"Idade\"], pessoa5[\"Idade\"]] # Criar uma lista com as idades\n",
    "\n",
    "print(idades) # Exibir a lista das idades"
   ]
  },
  {
   "cell_type": "markdown",
   "metadata": {},
   "source": [
    "### 14. Crie um programa que faça uma operação de multiplicação entre dois numeros introduzidos pelo utilizador e apresente o resultado."
   ]
  },
  {
   "cell_type": "code",
   "execution_count": 12,
   "metadata": {},
   "outputs": [
    {
     "name": "stdout",
     "output_type": "stream",
     "text": [
      "O resultado da multiplicação de 3453435535.0 e 567567.0 é igual a 1960056046293345.0\n"
     ]
    }
   ],
   "source": [
    "# Solicitar ao utilizador que insira os dois números\n",
    "número1 = float(input(\"Digite o primeiro número: \")) \n",
    "número2 = float(input(\"Digite o segundo número: \"))\n",
    "\n",
    "resultado = número1 * número2 # Realizar a operação de multiplicação\n",
    "\n",
    "print(f\"O resultado da multiplicação de {número1} e {número2} é igual a {resultado}\") # Exibir o resultado"
   ]
  },
  {
   "cell_type": "markdown",
   "metadata": {},
   "source": [
    "### 15. Desenvolva um programa que apresente se um numero introduzido pelo utilizador é par ou impar."
   ]
  },
  {
   "cell_type": "code",
   "execution_count": 14,
   "metadata": {},
   "outputs": [
    {
     "name": "stdout",
     "output_type": "stream",
     "text": [
      "O número 345 é ímpar.\n"
     ]
    }
   ],
   "source": [
    "número = int(input(\"Digite um número: \")) # Solicitar ao utilizador que insira um número\n",
    "\n",
    "# Verificar se o número é par ou ímpar\n",
    "if número % 2 == 0:\n",
    "    print(f\"O número {número} é par.\")\n",
    "else:\n",
    "    print(f\"O número {número} é ímpar.\")"
   ]
  },
  {
   "cell_type": "markdown",
   "metadata": {},
   "source": [
    "### 16. Verifique se nos dicionários criados na pregunta 11, existe o nome João."
   ]
  },
  {
   "cell_type": "code",
   "execution_count": 17,
   "metadata": {},
   "outputs": [
    {
     "name": "stdout",
     "output_type": "stream",
     "text": [
      "O nome João foi encontrado nos dicionários.\n"
     ]
    }
   ],
   "source": [
    "nomeprocurado = \"João\" # Nome a ser verificado\n",
    "\n",
    "# Verificar se o nome \"João\" existe nos dicionários\n",
    "pessoas = [pessoa1, pessoa2, pessoa3, pessoa4, pessoa5]\n",
    "\n",
    "encontrado = False\n",
    "for pessoa in pessoas:\n",
    "    if pessoa[\"Nome\"] == nomeprocurado:\n",
    "        encontrado = True\n",
    "        break\n",
    "\n",
    "if encontrado:\n",
    "    print(f\"O nome {nomeprocurado} foi encontrado nos dicionários.\")\n",
    "else:\n",
    "    print(f\"O nome {nomeprocurado} não foi encontrado nos dicionários.\")"
   ]
  },
  {
   "cell_type": "markdown",
   "metadata": {},
   "source": [
    "### 17. Se o utilizador introduzir 3 numeros, verifique todas as seguintes condições:\n",
    "- É maior do que zero\n",
    "- É menor ou igual a 10\n",
    "- É diferente de 7"
   ]
  },
  {
   "cell_type": "code",
   "execution_count": 8,
   "metadata": {},
   "outputs": [
    {
     "name": "stdout",
     "output_type": "stream",
     "text": [
      "12.0 False\n",
      "12.0 False\n",
      "12.0 False\n"
     ]
    }
   ],
   "source": [
    "num1 =float(input('Introduza o primeiro número'))\n",
    "num2 =float(input('Introduza o segundo número'))\n",
    "num3 =float(input('Introduza o terceiro número'))\n",
    "\n",
    "print(num1 , num1 > 0 and num1 <= 10  and num1 != 7)\n",
    "print(num2 , num2 > 0 and num2 <= 10  and num2 != 7)\n",
    "print(num3 , num3 > 0 and num3 <= 10  and num3 != 7)"
   ]
  }
 ],
 "metadata": {
  "kernelspec": {
   "display_name": "UFCD_10793_08_N",
   "language": "python",
   "name": "python3"
  },
  "language_info": {
   "codemirror_mode": {
    "name": "ipython",
    "version": 3
   },
   "file_extension": ".py",
   "mimetype": "text/x-python",
   "name": "python",
   "nbconvert_exporter": "python",
   "pygments_lexer": "ipython3",
   "version": "3.11.4"
  },
  "orig_nbformat": 4
 },
 "nbformat": 4,
 "nbformat_minor": 2
}
