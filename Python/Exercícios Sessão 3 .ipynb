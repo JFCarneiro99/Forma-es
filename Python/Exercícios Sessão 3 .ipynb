{
 "cells": [
  {
   "cell_type": "markdown",
   "metadata": {},
   "source": [
    "# **Exercícios Sessão 3**"
   ]
  },
  {
   "cell_type": "markdown",
   "metadata": {},
   "source": [
    "### 1. Crie uma variável do tipo int, aplicando o método de atribuição direto"
   ]
  },
  {
   "cell_type": "code",
   "execution_count": null,
   "metadata": {},
   "outputs": [],
   "source": [
    "x = 1  # Atribuição direta de um número inteiro"
   ]
  },
  {
   "cell_type": "markdown",
   "metadata": {},
   "source": [
    "### 2. Crie uma variavél do tipo str, usando o metodo casting."
   ]
  },
  {
   "cell_type": "code",
   "execution_count": 1,
   "metadata": {},
   "outputs": [],
   "source": [
    "y = 75  # Atribuição direta de um número inteiro\n",
    "\n",
    "y1 = str(y) # Converter inteiro para string"
   ]
  },
  {
   "cell_type": "markdown",
   "metadata": {},
   "source": [
    "### 3. Faça a conversão de uma variável do tipo float para str, e faça o output do tipo de varável final."
   ]
  },
  {
   "cell_type": "code",
   "execution_count": 1,
   "metadata": {},
   "outputs": [
    {
     "name": "stdout",
     "output_type": "stream",
     "text": [
      "A variável final é: <class 'str'>\n"
     ]
    }
   ],
   "source": [
    "z = 40,7  # Atribuição direta de um número float\n",
    "\n",
    "z1 = str(z) # Converter float para string\n",
    "\n",
    "tipovariavel = type(z1)\n",
    "\n",
    "print('A variável final é:',tipovariavel)"
   ]
  },
  {
   "cell_type": "markdown",
   "metadata": {},
   "source": [
    "### 4. Identifique quais os tipos de variáveis são corretos.\n",
    "#### A) hello_world = 2     *SIM*\n",
    "#### B) 1hello_world = 2    *NÃO*\n",
    "#### C) Hello_World = 2     *SIM*\n",
    "#### D) _hello-world = 2    *NÃO*\n",
    "#### E) -hello_World = 2    *NÃO*\n",
    "#### F) helloWorld = 2      *SIM*"
   ]
  },
  {
   "cell_type": "markdown",
   "metadata": {},
   "source": [
    "### 5. Faça um programa que o utilizador introduz o seu nome, e no output apresenta o mesmo e o tipo da variável que o seu nome ficou atribuido."
   ]
  },
  {
   "cell_type": "code",
   "execution_count": 2,
   "metadata": {},
   "outputs": [
    {
     "name": "stdout",
     "output_type": "stream",
     "text": [
      "O nome introduzido pelo utilizador foi: SDVSDVSDV e o tipo de variável é <class 'str'> .\n"
     ]
    }
   ],
   "source": [
    "nome = (input ('Introduza o seu nome, por favor'))\n",
    "\n",
    "tipo_de_variável = type(nome)\n",
    "\n",
    "print('O nome introduzido pelo utilizador foi:', nome, 'e o tipo de variável é', tipo_de_variável,'.')"
   ]
  },
  {
   "cell_type": "markdown",
   "metadata": {},
   "source": [
    "### 6. Atribua o mesmo elemento a três variáveis distintas, usando apenas uma linha de comando."
   ]
  },
  {
   "cell_type": "code",
   "execution_count": 3,
   "metadata": {},
   "outputs": [],
   "source": [
    "c = v = b = 1 # Atribuição do mesmo elemento a três variáveis distintas"
   ]
  },
  {
   "cell_type": "markdown",
   "metadata": {},
   "source": [
    "### 7. Crie cinco variáveis do tipo str e coloque um output que apresente as mesmas, uma em cada linha."
   ]
  },
  {
   "cell_type": "code",
   "execution_count": 6,
   "metadata": {},
   "outputs": [
    {
     "name": "stdout",
     "output_type": "stream",
     "text": [
      "A primeira porta chama-se: 1\n",
      "A segunda porta chama-se: 2\n",
      "A terceira porta chama-se: 3\n",
      "A quarta porta chama-se: 4\n",
      "A quinta porta chama-se: 5\n"
     ]
    }
   ],
   "source": [
    "B1, B2, B3, B4, B5 = int(input('Indique a primeira porta')), int(input('Indique a segunda porta')), int(input('Indique a terceira porta')), int(input('Indique a quarta porta')), int(input('Indique a quinta porta'))\n",
    "print('A primeira porta chama-se: ' + str(B1) + '\\nA segunda porta chama-se: ' + str(B2) + '\\nA terceira porta chama-se: ' + str(B3) + '\\nA quarta porta chama-se: ' + str(B4) + '\\nA quinta porta chama-se: ' + str(B5))"
   ]
  },
  {
   "cell_type": "markdown",
   "metadata": {},
   "source": [
    "### 8. Atribua três numeros distintos a três variáveis distintas, usando apenas uma linha de comando. Coloque um output que apresente a soma dessas três variáveis."
   ]
  },
  {
   "cell_type": "code",
   "execution_count": 8,
   "metadata": {},
   "outputs": [
    {
     "name": "stdout",
     "output_type": "stream",
     "text": [
      "11\n"
     ]
    }
   ],
   "source": [
    "d ,f, g = 1, 4, 6 # Atribuição de três elemento distintos a três variáveis distintas\n",
    "\n",
    "print(d+f+g)\n"
   ]
  },
  {
   "cell_type": "markdown",
   "metadata": {},
   "source": [
    "### 9. Faça um programa que o utilizador introduz os seguintes dados:\n",
    "#### - Primeiro Nome (str)\n",
    "#### - Ultimo Nome (str)\n",
    "#### - Idade (int)\n",
    "#### - Peso (float)\n",
    "### Apresente estes valores, com a formatação adequada para cada tipo de variável, num unico output, com a disposição acima representada."
   ]
  },
  {
   "cell_type": "code",
   "execution_count": 5,
   "metadata": {},
   "outputs": [
    {
     "name": "stdout",
     "output_type": "stream",
     "text": [
      "Primeiro Nome: joSÉ\n",
      "Último Nome: cARNEIRO\n",
      "Idade: 23 anos\n",
      "Peso: 112.30 kg\n"
     ]
    }
   ],
   "source": [
    "# Solicitar ao utilizador que insira os dados\n",
    "primeiro_nome = input('Digite  o seu primeiro nome: ')\n",
    "ultimo_nome = input('Digite o seu último nome: ')\n",
    "idade = int(input('Digite o sua idade: '))\n",
    "peso = float(input('Digite o seu peso (em kg): '))\n",
    "\n",
    "output = f'Primeiro Nome: {primeiro_nome}\\nÚltimo Nome: {ultimo_nome}\\nIdade: {idade} anos\\nPeso: {peso:.2f} kg'\n",
    "\n",
    "print(output) # Apresentar os dados\n"
   ]
  },
  {
   "cell_type": "markdown",
   "metadata": {},
   "source": [
    "### 10. Crie uma lista de valores introduzidos pelo utilizador, e apresente um output de um dos elementos introduzidos"
   ]
  },
  {
   "cell_type": "code",
   "execution_count": 9,
   "metadata": {},
   "outputs": [
    {
     "name": "stdout",
     "output_type": "stream",
     "text": [
      "t\n"
     ]
    }
   ],
   "source": [
    "var1 = input('Introduza o primeiro elemento')\n",
    "var2 = input('Introduza o segundo elemento')\n",
    "var3 = input('Introduza o terceiro elemento')\n",
    "var4 = input('Introduza o quarto elemento')\n",
    "var5 = input('Introduza o quinto elemento')\n",
    "\n",
    "userlist = [var1,var2,var3,var4,var5]\n",
    "\n",
    "print(userlist[4])"
   ]
  }
 ],
 "metadata": {
  "kernelspec": {
   "display_name": "UFCD_10793_08_N",
   "language": "python",
   "name": "python3"
  },
  "language_info": {
   "codemirror_mode": {
    "name": "ipython",
    "version": 3
   },
   "file_extension": ".py",
   "mimetype": "text/x-python",
   "name": "python",
   "nbconvert_exporter": "python",
   "pygments_lexer": "ipython3",
   "version": "3.11.4"
  },
  "orig_nbformat": 4
 },
 "nbformat": 4,
 "nbformat_minor": 2
}
