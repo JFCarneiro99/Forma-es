{
 "cells": [
  {
   "cell_type": "markdown",
   "metadata": {},
   "source": [
    "# **Exercícios Sessão 7**"
   ]
  },
  {
   "cell_type": "markdown",
   "metadata": {},
   "source": [
    "### 1. Crie um programa que através de um input do utilizador, destinga se foi introduzido um numero, um caracter ou conjunto de caracteres"
   ]
  },
  {
   "cell_type": "code",
   "execution_count": 6,
   "metadata": {},
   "outputs": [
    {
     "name": "stdout",
     "output_type": "stream",
     "text": [
      "Foi introduzido um conjunto de caracteres.\n"
     ]
    }
   ],
   "source": [
    "entrada = input(\"Introduza algo: \") # Pedir ao utilizador que introduza algo\n",
    "\n",
    "if entrada.isdigit():\n",
    "    print(\"Foi introduzido um número.\")\n",
    "elif entrada.isalpha():\n",
    "    print(\"Foi introduzido um conjunto de caracteres.\")\n",
    "else:\n",
    "    print(\"Foi introduzido um conjunto de caracteres misto.\")\n"
   ]
  },
  {
   "cell_type": "markdown",
   "metadata": {},
   "source": [
    "### 2. Desenvolva um programa que faça operações de soma, subtração, multiplicação e divisão de 2 números, através de um input do utilizador, em que aparece no monitor as instruções de utilização"
   ]
  },
  {
   "cell_type": "code",
   "execution_count": 7,
   "metadata": {},
   "outputs": [
    {
     "name": "stdout",
     "output_type": "stream",
     "text": [
      "Bem-vindo ao programa de operações matemáticas!\n",
      "Por favor, siga as instruções abaixo:\n",
      "Escolha a operação que deseja realizar:\n",
      "1. Soma\n",
      "2. Subtração\n",
      "3. Multiplicação\n",
      "4. Divisão\n",
      "O resultado da soma é: 46.0\n"
     ]
    }
   ],
   "source": [
    "def soma(a, b): # Função para realizar a operação de soma\n",
    "    return a + b\n",
    "\n",
    "def subtracao(a, b):  # Função para realizar a operação de subtração\n",
    "    return a - b\n",
    "\n",
    "def multiplicacao(a, b):  # Função para realizar a operação de multiplicação\n",
    "    return a * b\n",
    "\n",
    "def divisao(a, b):  # Função para realizar a operação de divisão\n",
    "    if b == 0:\n",
    "        return \"Não é possível dividir por zero.\"\n",
    "    else:\n",
    "        return a / b\n",
    "\n",
    "# Mostra as instruções de utilização\n",
    "print(\"Bem-vindo ao programa de operações matemáticas!\")\n",
    "print(\"Por favor, siga as instruções abaixo:\")\n",
    "\n",
    "# Solicita ao utilizador para introduzir dois números\n",
    "numero1 = float(input(\"Introduza o primeiro número: \"))\n",
    "numero2 = float(input(\"Introduza o segundo número: \"))\n",
    "\n",
    "# Mostra as opções disponíveis\n",
    "print(\"Escolha a operação que deseja realizar:\")\n",
    "print(\"1. Soma\")\n",
    "print(\"2. Subtração\")\n",
    "print(\"3. Multiplicação\")\n",
    "print(\"4. Divisão\")\n",
    "\n",
    "# Solicita ao utilizador para escolher uma operação\n",
    "opcao = input(\"Digite o número da operação desejada (1/2/3/4): \")\n",
    "\n",
    "# Realiza a operação com base na escolha do utilizador\n",
    "if opcao == '1':\n",
    "    resultado = soma(numero1, numero2)\n",
    "    print(\"O resultado da soma é:\", resultado)\n",
    "elif opcao == '2':\n",
    "    resultado = subtracao(numero1, numero2)\n",
    "    print(\"O resultado da subtração é:\", resultado)\n",
    "elif opcao == '3':\n",
    "    resultado = multiplicacao(numero1, numero2)\n",
    "    print(\"O resultado da multiplicação é:\", resultado)\n",
    "elif opcao == '4':\n",
    "    resultado = divisao(numero1, numero2)\n",
    "    print(\"O resultado da divisão é:\", resultado)\n",
    "else:\n",
    "    print(\"Opção inválida. Por favor, escolha uma opção válida (1/2/3/4).\")\n"
   ]
  },
  {
   "cell_type": "markdown",
   "metadata": {},
   "source": [
    "### 3. Crie uma lista com 10 nomes. Desenvolva um programa em que o utilizador ao colocar um nome como input, se consta nessa lista ou não"
   ]
  },
  {
   "cell_type": "code",
   "execution_count": 8,
   "metadata": {},
   "outputs": [
    {
     "name": "stdout",
     "output_type": "stream",
     "text": [
      "O nome 'maria' não está na lista.\n"
     ]
    }
   ],
   "source": [
    "# Lista com 10 nomes\n",
    "nomes = [\"João\", \"Maria\", \"Pedro\", \"Ana\", \"Luís\", \"Marta\", \"Rui\", \"Sofia\", \"Carlos\", \"Teresa\"]\n",
    "\n",
    "# Solicita ao utilizador que introduza um nome\n",
    "nome_procurado = input(\"Introduza um nome para verificar se está na lista: \")\n",
    "\n",
    "# Verificar se o nome introduzido pelo utilizador está na lista\n",
    "if nome_procurado in nomes:\n",
    "    print(f\"O nome '{nome_procurado}' está na lista.\")\n",
    "else:\n",
    "    print(f\"O nome '{nome_procurado}' não está na lista.\")"
   ]
  },
  {
   "cell_type": "markdown",
   "metadata": {},
   "source": [
    "### 4. No programa desenvolvido em 2, aplique o método de funções para as operações aritméticas específicadas"
   ]
  },
  {
   "cell_type": "code",
   "execution_count": null,
   "metadata": {},
   "outputs": [],
   "source": [
    "def soma(a, b):  # Função para realizar a operação de soma\n",
    "    return a + b\n",
    "\n",
    "def subtracao(a, b):  # Função para realizar a operação de subtração\n",
    "    return a - b\n",
    "\n",
    "def multiplicacao(a, b):  # Função para realizar a operação de multiplicação\n",
    "    return a * b\n",
    "\n",
    "def divisao(a, b):  # Função para realizar a operação de divisão\n",
    "    if b == 0:\n",
    "        return \"Não é possível dividir por zero.\"\n",
    "    else:\n",
    "        return a / b\n",
    "\n",
    "def main():\n",
    "    # Mostra as instruções de utilização\n",
    "    print(\"Bem-vindo ao programa de operações matemáticas!\")\n",
    "    print(\"Por favor, siga as instruções abaixo:\")\n",
    "\n",
    "    # Solicita ao utilizador para introduzir dois números\n",
    "    numero1 = float(input(\"Introduza o primeiro número: \"))\n",
    "    numero2 = float(input(\"Introduza o segundo número: \"))\n",
    "\n",
    "    # Mostra as opções disponíveis\n",
    "    print(\"Escolha a operação que deseja realizar:\")\n",
    "    print(\"1. Soma\")\n",
    "    print(\"2. Subtração\")\n",
    "    print(\"3. Multiplicação\")\n",
    "    print(\"4. Divisão\")\n",
    "\n",
    "    # Solicita ao utilizador que escolha uma operação\n",
    "    opcao = input(\"Digite o número da operação desejada (1/2/3/4): \")\n",
    "\n",
    "    # Realiza a operação com base na escolha do utilizador\n",
    "    if opcao == '1':\n",
    "        resultado = soma(numero1, numero2)\n",
    "        print(\"O resultado da soma é:\", resultado)\n",
    "    elif opcao == '2':\n",
    "        resultado = subtracao(numero1, numero2)\n",
    "        print(\"O resultado da subtração é:\", resultado)\n",
    "    elif opcao == '3':\n",
    "        resultado = multiplicacao(numero1, numero2)\n",
    "        print(\"O resultado da multiplicação é:\", resultado)\n",
    "    elif opcao == '4':\n",
    "        resultado = divisao(numero1, numero2)\n",
    "        print(\"O resultado da divisão é:\", resultado)\n",
    "    else:\n",
    "        print(\"Opção inválida. Por favor, escolha uma opção válida (1/2/3/4).\")\n",
    "\n",
    "# Chama a função principal para executar o programa\n",
    "if __name__ == \"__main__\":\n",
    "    main()"
   ]
  },
  {
   "cell_type": "markdown",
   "metadata": {},
   "source": [
    "### 5. No programa desenvolvido em 4, coloque a opção de o programa estar sempre em execução. Apenas só com um caracter específico inserido pelo utilizador o programa termina."
   ]
  },
  {
   "cell_type": "code",
   "execution_count": 12,
   "metadata": {},
   "outputs": [
    {
     "name": "stdout",
     "output_type": "stream",
     "text": [
      "Bem-vindo ao programa de operações matemáticas!\n",
      "Para encerrar o programa, insira o caracter 'q'.\n",
      "Escolha a operação que deseja realizar:\n",
      "1. Soma\n",
      "2. Subtração\n",
      "3. Multiplicação\n",
      "4. Divisão\n",
      "Para sair, insira 'q'.\n"
     ]
    }
   ],
   "source": [
    "def soma(a, b):  # Função para realizar a operação de soma\n",
    "    return a + b\n",
    "\n",
    "def subtracao(a, b):  # Função para realizar a operação de subtração\n",
    "    return a - b\n",
    "\n",
    "def multiplicacao(a, b):  # Função para realizar a operação de multiplicação\n",
    "    return a * b\n",
    "\n",
    "def divisao(a, b):  # Função para realizar a operação de divisão\n",
    "    if b == 0:\n",
    "        return \"Não é possível dividir por zero.\"\n",
    "    else:\n",
    "        return a / b\n",
    "\n",
    "def main():\n",
    "    # Mostra as instruções de utilização\n",
    "    print(\"Bem-vindo ao programa de operações matemáticas!\")\n",
    "    print(\"Para encerrar o programa, insira o caracter 'q'.\")\n",
    "\n",
    "    while True:\n",
    "        # Solicita ao utilizador para introduzir dois números\n",
    "        numero1 = float(input(\"Introduza o primeiro número: \"))\n",
    "        numero2 = float(input(\"Introduza o segundo número: \"))\n",
    "\n",
    "        # Mostra as opções disponíveis\n",
    "        print(\"Escolha a operação que deseja realizar:\")\n",
    "        print(\"1. Soma\")\n",
    "        print(\"2. Subtração\")\n",
    "        print(\"3. Multiplicação\")\n",
    "        print(\"4. Divisão\")\n",
    "        print(\"Para sair, insira 'q'.\")\n",
    "\n",
    "        # Solicita ao utilizador que escolha uma operação\n",
    "        opcao = input(\"Digite o número da operação desejada (1/2/3/4): \")\n",
    "\n",
    "        if opcao == 'q':\n",
    "            break\n",
    "\n",
    "        # Realiza a operação com base na escolha do utilizador\n",
    "        if opcao == '1':\n",
    "            resultado = soma(numero1, numero2)\n",
    "            print(\"O resultado da soma é:\", resultado)\n",
    "        elif opcao == '2':\n",
    "            resultado = subtracao(numero1, numero2)\n",
    "            print(\"O resultado da subtração é:\", resultado)\n",
    "        elif opcao == '3':\n",
    "            resultado = multiplicacao(numero1, numero2)\n",
    "            print(\"O resultado da multiplicação é:\", resultado)\n",
    "        elif opcao == '4':\n",
    "            resultado = divisao(numero1, numero2)\n",
    "            print(\"O resultado da divisão é:\", resultado)\n",
    "        else:\n",
    "            print(\"Opção inválida. Por favor, escolha uma opção válida (1/2/3/4).\")\n",
    "\n",
    "# Chama a função principal para executar o programa\n",
    "if __name__ == \"__main__\":\n",
    "    main()"
   ]
  },
  {
   "cell_type": "markdown",
   "metadata": {},
   "source": [
    "### 6. Crie um programa que apresente uma tabela de potências de 2 e de 3, com numeros de 1 a 10, conforme o seguinte exemplo:"
   ]
  },
  {
   "cell_type": "code",
   "execution_count": 13,
   "metadata": {},
   "outputs": [
    {
     "name": "stdout",
     "output_type": "stream",
     "text": [
      "Tabela de Potências de 2 e 3 (1 a 10)\n",
      "N     2^N        3^N       \n",
      "=========================\n",
      "1     2          3         \n",
      "2     4          9         \n",
      "3     8          27        \n",
      "4     16         81        \n",
      "5     32         243       \n",
      "6     64         729       \n",
      "7     128        2187      \n",
      "8     256        6561      \n",
      "9     512        19683     \n",
      "10    1024       59049     \n"
     ]
    }
   ],
   "source": [
    "print(\"Tabela de Potências de 2 e 3 (1 a 10)\")\n",
    "\n",
    "# Cabeçalho da tabela\n",
    "print(\"{:<5} {:<10} {:<10}\".format(\"N\", \"2^N\", \"3^N\"))\n",
    "print(\"=\" * 25)\n",
    "\n",
    "# Loop de 1 a 10\n",
    "for n in range(1, 11):\n",
    "    # Calcula as potências de 2 e 3\n",
    "    potencia_2 = 2 ** n\n",
    "    potencia_3 = 3 ** n\n",
    "\n",
    "    # Imprime os valores na tabela\n",
    "    print(\"{:<5} {:<10} {:<10}\".format(n, potencia_2, potencia_3))"
   ]
  }
 ],
 "metadata": {
  "kernelspec": {
   "display_name": "UFCD_10793_08_N",
   "language": "python",
   "name": "python3"
  },
  "language_info": {
   "codemirror_mode": {
    "name": "ipython",
    "version": 3
   },
   "file_extension": ".py",
   "mimetype": "text/x-python",
   "name": "python",
   "nbconvert_exporter": "python",
   "pygments_lexer": "ipython3",
   "version": "3.11.4"
  },
  "orig_nbformat": 4
 },
 "nbformat": 4,
 "nbformat_minor": 2
}
